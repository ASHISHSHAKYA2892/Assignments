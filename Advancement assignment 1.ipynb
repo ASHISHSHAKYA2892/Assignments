{
 "cells": [
  {
   "cell_type": "code",
   "execution_count": null,
   "metadata": {},
   "outputs": [],
   "source": [
    "#(1)\n",
    "#Object-oriented programming (OOP) is a method of structuring a program by bundling related properties and behaviors into individual objects. \n",
    "#In this tutorial, you'll learn the basics of object-oriented programming in Python. Conceptually, objects are like the components of a system"
   ]
  },
  {
   "cell_type": "code",
   "execution_count": null,
   "metadata": {},
   "outputs": [],
   "source": [
    "#(2)\n",
    "#very time you use an expression of the form object. attr where object is an instance or class object, Python searches the namespace tree at and above object , for the first attr it can find. \n",
    "#Because lower definitions in the tree override higher ones, inheritance forms the basis of specialization"
   ]
  },
  {
   "cell_type": "code",
   "execution_count": null,
   "metadata": {},
   "outputs": [],
   "source": [
    "#(3)\n",
    "#An instance is a specific representation of an object. An object is a generic thing while an instance is a single object that has been created in memory. \n",
    "#Usually an instance will have values assigned to it's properties that differentiates it from other instances of the type of object\n",
    "#. Almost everything in Python is an object, with its properties and methods. A Class is like an object constructor, or a \"blueprint\" for creating objects"
   ]
  },
  {
   "cell_type": "code",
   "execution_count": null,
   "metadata": {},
   "outputs": [],
   "source": [
    "#(4)\n"
   ]
  },
  {
   "cell_type": "code",
   "execution_count": null,
   "metadata": {},
   "outputs": [],
   "source": [
    "#(5)\n",
    "#\"__init__\" is a reseved method in python classes. \n",
    "#It is called as a constructor in object oriented terminology. \n",
    "#This method is called when an object is created from a class and it allows the class to initialize the attributes of the class"
   ]
  },
  {
   "cell_type": "code",
   "execution_count": null,
   "metadata": {},
   "outputs": [],
   "source": [
    "#(6)\n",
    "#When you create an object, you are creating an instance of a class, therefore \"instantiating\" a class. \n",
    "#The new operator requires a single, postfix argument: a call to a constructor. The name of the constructor provides the name of the class to instantiate. \n",
    "#The constructor initializes the new object"
   ]
  },
  {
   "cell_type": "code",
   "execution_count": null,
   "metadata": {},
   "outputs": [],
   "source": [
    "#(7)\n",
    "#Every class has a constructor. If we do not explicitly write a constructor for a class, the Java compiler builds a default constructor for that class.\n",
    "#Each time a new object is created, at least one constructor will be invoked. \n",
    "#The main rule of constructors is that they should have the same name as the class."
   ]
  },
  {
   "cell_type": "code",
   "execution_count": null,
   "metadata": {},
   "outputs": [],
   "source": [
    "#(8)\n",
    "#The derived class (the class that is derived from another class) is called a subclass. \n",
    "#The class from which it's derived is called the superclass. ... \n",
    "#The subclass inherits state and behavior in the form of variables and methods from its superclass"
   ]
  }
 ],
 "metadata": {
  "kernelspec": {
   "display_name": "Python 3",
   "language": "python",
   "name": "python3"
  },
  "language_info": {
   "codemirror_mode": {
    "name": "ipython",
    "version": 3
   },
   "file_extension": ".py",
   "mimetype": "text/x-python",
   "name": "python",
   "nbconvert_exporter": "python",
   "pygments_lexer": "ipython3",
   "version": "3.8.5"
  }
 },
 "nbformat": 4,
 "nbformat_minor": 4
}
