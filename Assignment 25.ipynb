{
 "cells": [
  {
   "cell_type": "markdown",
   "metadata": {},
   "source": [
    "1) What is the difference between enclosing a list comprehension in square brackets and parentheses?\n",
    "\n",
    "    "
   ]
  },
  {
   "cell_type": "code",
   "execution_count": null,
   "metadata": {},
   "outputs": [],
   "source": [
    "#List comprehension in Python is also surrounded by brackets, but instead of the list of data inside it, you enter an expression followed by for loop and if-else clauses"
   ]
  },
  {
   "cell_type": "markdown",
   "metadata": {},
   "source": [
    "\n",
    "   2) What is the relationship between generators and iterators?\n",
    "\n",
    "    "
   ]
  },
  {
   "cell_type": "code",
   "execution_count": null,
   "metadata": {},
   "outputs": [],
   "source": [
    "#Iterators are used mostly to iterate or convert other objects to an iterator using iter() function.\n",
    "#It is another way of creating iterators in a simple way where it uses the keyword “yield” \n",
    "#instead of returning it in a defined function. \n",
    "#Generators are implemented using a function. Just as iterators, generators also follow lazy evaluation.\n",
    "#Here, the yield function returns the data without affecting or exiting the function. It will return a sequence of data in an iterable format where we need to iterate \n",
    "#over the sequence to use the data as they won’t store the entire sequence in the memory."
   ]
  },
  {
   "cell_type": "markdown",
   "metadata": {},
   "source": [
    "3) What are the signs that a function is a generator function?\n"
   ]
  },
  {
   "cell_type": "code",
   "execution_count": null,
   "metadata": {},
   "outputs": [],
   "source": [
    "#It is as easy as defining a normal function, but with a yield statement instead of a return statement.\n",
    "#If a function contains at least one yield statement (it may contain other yield or return statements), \n",
    "#it becomes a generator function. Both yield and return will return some value from a function"
   ]
  },
  {
   "cell_type": "markdown",
   "metadata": {},
   "source": [
    "4) What is the purpose of a yield statement?\n"
   ]
  },
  {
   "cell_type": "code",
   "execution_count": null,
   "metadata": {},
   "outputs": [],
   "source": [
    "#In its simplest form, a yield statement looks much like a return statement,\n",
    "#except that instead of stopping execution of the function and returning,\n",
    "#yield instead provides a value to the code looping over the generator and\n",
    "#pauses execution of the generator function"
   ]
  },
  {
   "cell_type": "markdown",
   "metadata": {},
   "source": [
    "5) What is the relationship between map calls and list comprehensions? Make a comparison and contrast between the two.\n"
   ]
  },
  {
   "cell_type": "code",
   "execution_count": null,
   "metadata": {},
   "outputs": [],
   "source": [
    "#List comprehension is more concise and easier to read as compared to map. \n",
    "#List comprehension are used when a list of results is required as map only returns a map object and does not return any list.\n",
    "#Map is faster in case of calling an already defined function (as no lambda is required)"
   ]
  }
 ],
 "metadata": {
  "kernelspec": {
   "display_name": "Python 3",
   "language": "python",
   "name": "python3"
  },
  "language_info": {
   "codemirror_mode": {
    "name": "ipython",
    "version": 3
   },
   "file_extension": ".py",
   "mimetype": "text/x-python",
   "name": "python",
   "nbconvert_exporter": "python",
   "pygments_lexer": "ipython3",
   "version": "3.8.5"
  }
 },
 "nbformat": 4,
 "nbformat_minor": 4
}
