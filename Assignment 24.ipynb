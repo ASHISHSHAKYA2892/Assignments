{
 "cells": [
  {
   "cell_type": "markdown",
   "metadata": {},
   "source": [
    "1. What is the relationship between def statements and lambda expressions ?\n"
   ]
  },
  {
   "cell_type": "code",
   "execution_count": 1,
   "metadata": {},
   "outputs": [
    {
     "name": "stdout",
     "output_type": "stream",
     "text": [
      "13\n"
     ]
    }
   ],
   "source": [
    "#First, we will use the def keyword to create a function that returns \n",
    "#the sum of two numbers, and then we will write it as a lambda expression:\n",
    "#As we can see, if we want our function to have multiple parameters in a lambda expression, we would just separate those parameters by a comma\n",
    "x = lambda a, b, c : a + b + c\n",
    "print(x(5, 6, 2))"
   ]
  },
  {
   "cell_type": "markdown",
   "metadata": {},
   "source": [
    "2. What is the benefit of lambda?\n"
   ]
  },
  {
   "cell_type": "code",
   "execution_count": null,
   "metadata": {},
   "outputs": [],
   "source": [
    "#Fewer Lines of Code. One of the benefits of using lambda expression is the reduced amount of code. ...\n",
    "#Sequential and Parallel Execution Support by passing behavior in methods. ...\n",
    "#Higher Efficiency (Utilizing Multicore CPU's)"
   ]
  },
  {
   "cell_type": "markdown",
   "metadata": {},
   "source": [
    "3. Compare and contrast map, filter, and reduce.\n"
   ]
  },
  {
   "cell_type": "code",
   "execution_count": null,
   "metadata": {},
   "outputs": [],
   "source": [
    "#map creates a new array by transforming every element in an array,\n",
    "#individually. filter creates a new array by removing elements that don't belong. reduce , \n",
    "#on the other hand, takes all of the elements in an array and reduces them into a single value. \n",
    "#Just like map and filter ,\n",
    "#reduce is defined on Array"
   ]
  },
  {
   "cell_type": "markdown",
   "metadata": {},
   "source": [
    "4. What are function annotations, and how are they used?\n"
   ]
  },
  {
   "cell_type": "code",
   "execution_count": null,
   "metadata": {},
   "outputs": [],
   "source": [
    "#Function annotations are completely optional both for parameters and return value. \n",
    "#Function annotations provide a way of associating various parts of a function with \n",
    "#arbitrary python expressions at compile time. The PEP-3107 makes no attempt to introduce any kind of standard semantics, \n",
    "#even for the built-in types"
   ]
  },
  {
   "cell_type": "markdown",
   "metadata": {},
   "source": [
    "5. What are recursive functions, and how are they used?\n"
   ]
  },
  {
   "cell_type": "code",
   "execution_count": null,
   "metadata": {},
   "outputs": [],
   "source": [
    "#A recursive function is a function that calls itself during its execution. T\n",
    "#he process may repeat several times, outputting the result and the end of each iteration. \n",
    "#The function Count() below uses recursion to count from any number between 1 and 9, to the number 10."
   ]
  },
  {
   "cell_type": "markdown",
   "metadata": {},
   "source": [
    "6. What are some general design guidelines for coding functions?\n",
    "    "
   ]
  },
  {
   "cell_type": "code",
   "execution_count": null,
   "metadata": {},
   "outputs": [],
   "source": [
    "#Limited use of globals: ...\n",
    "#Standard headers for different modules: ...\n",
    "#Naming conventions for local variables, global variables, constants and functions: ...\n",
    "#Indentation: ...\n",
    "#Error return values and exception handling conventions:"
   ]
  },
  {
   "cell_type": "markdown",
   "metadata": {},
   "source": [
    "7. Name three or more ways that functions can communicate results to a caller.\n"
   ]
  },
  {
   "cell_type": "markdown",
   "metadata": {},
   "source": []
  },
  {
   "cell_type": "markdown",
   "metadata": {},
   "source": []
  },
  {
   "cell_type": "markdown",
   "metadata": {},
   "source": []
  },
  {
   "cell_type": "markdown",
   "metadata": {},
   "source": []
  }
 ],
 "metadata": {
  "kernelspec": {
   "display_name": "Python 3",
   "language": "python",
   "name": "python3"
  },
  "language_info": {
   "codemirror_mode": {
    "name": "ipython",
    "version": 3
   },
   "file_extension": ".py",
   "mimetype": "text/x-python",
   "name": "python",
   "nbconvert_exporter": "python",
   "pygments_lexer": "ipython3",
   "version": "3.8.5"
  }
 },
 "nbformat": 4,
 "nbformat_minor": 4
}
