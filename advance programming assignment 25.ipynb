{
 "cells": [
  {
   "cell_type": "code",
   "execution_count": 74,
   "metadata": {},
   "outputs": [
    {
     "name": "stdout",
     "output_type": "stream",
     "text": [
      "dict_values([2, 4, 2])\n"
     ]
    }
   ],
   "source": [
    "#(1)\n",
    "MyList = [\"b\", \"a\", \"a\", \"c\", \"b\", \"a\", \"c\",'a']\n",
    "duplicate_dict={} # a dictionary to store each of them.\n",
    "for i in MyList:#loop through them.\n",
    "    duplicate_dict[i]=MyList.count(i)\n",
    "print(duplicate_dict.values())\n",
    "        "
   ]
  },
  {
   "cell_type": "code",
   "execution_count": 122,
   "metadata": {},
   "outputs": [
    {
     "name": "stdout",
     "output_type": "stream",
     "text": [
      "[('a', 1), ('b', 2), ('c', 3)]\n"
     ]
    }
   ],
   "source": [
    "#(2)\n",
    "a_dictionary = {\"a\": 1, \"b\": 2, \"c\": 3}\n",
    "\n",
    "a_view = a_dictionary.items()\n",
    "a_list = list(a_view)\n",
    "\n",
    "print(a_list)\n",
    "    "
   ]
  },
  {
   "cell_type": "code",
   "execution_count": 155,
   "metadata": {},
   "outputs": [
    {
     "name": "stdout",
     "output_type": "stream",
     "text": [
      "{'ABC': 'XYZ', 'DEF': 'UVW', 'GHI': 'RST'}\n"
     ]
    }
   ],
   "source": [
    "#3\n",
    "d= {'abc': 'xyz', 'def': 'uvw', 'ghi': 'rst'}\n",
    "d.items()\n",
    "l={}\n",
    "for i,v in d.items():\n",
    "    x=(v.upper())\n",
    "    y=(i.upper())\n",
    "    l[y]=x\n",
    "print(l)"
   ]
  },
  {
   "cell_type": "code",
   "execution_count": 235,
   "metadata": {},
   "outputs": [
    {
     "name": "stdout",
     "output_type": "stream",
     "text": [
      "Prpppssppprppp cppppppkpppr\n"
     ]
    }
   ],
   "source": [
    "#(4)\n",
    "s='Pressure cooker'\n",
    "v='aeiouAEIOU'\n",
    "for i in v:\n",
    "    s=s.replace(i,\"ppp\")\n",
    "print(s)\n",
    "\n",
    "    "
   ]
  },
  {
   "cell_type": "code",
   "execution_count": null,
   "metadata": {},
   "outputs": [],
   "source": []
  }
 ],
 "metadata": {
  "kernelspec": {
   "display_name": "Python 3",
   "language": "python",
   "name": "python3"
  },
  "language_info": {
   "codemirror_mode": {
    "name": "ipython",
    "version": 3
   },
   "file_extension": ".py",
   "mimetype": "text/x-python",
   "name": "python",
   "nbconvert_exporter": "python",
   "pygments_lexer": "ipython3",
   "version": "3.8.5"
  }
 },
 "nbformat": 4,
 "nbformat_minor": 4
}
