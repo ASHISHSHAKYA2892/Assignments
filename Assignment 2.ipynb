{
 "cells": [
  {
   "cell_type": "markdown",
   "metadata": {},
   "source": [
    "1.What are the two values of the Boolean data type? How do you write them?"
   ]
  },
  {
   "cell_type": "code",
   "execution_count": 1,
   "metadata": {},
   "outputs": [],
   "source": [
    "#Two types of boolean data types are True and False"
   ]
  },
  {
   "cell_type": "code",
   "execution_count": 23,
   "metadata": {},
   "outputs": [
    {
     "name": "stdout",
     "output_type": "stream",
     "text": [
      "True\n",
      "False\n"
     ]
    }
   ],
   "source": [
    "a=\"i study fullstack data science\"\n",
    "print(a.islower())\n",
    "print(a.isupper())\n",
    "   \n",
    "    "
   ]
  },
  {
   "cell_type": "markdown",
   "metadata": {},
   "source": [
    "2. What are the three different types of Boolean operators?"
   ]
  },
  {
   "cell_type": "code",
   "execution_count": 38,
   "metadata": {},
   "outputs": [
    {
     "name": "stdout",
     "output_type": "stream",
     "text": [
      "True\n",
      "False\n"
     ]
    }
   ],
   "source": [
    "#Different types of boolean operators are >,<,and.\n",
    "a=10\n",
    "print(a>10 or a==10)\n",
    "print(a<10)\n",
    "\n",
    "    "
   ]
  },
  {
   "cell_type": "markdown",
   "metadata": {},
   "source": [
    "3. Make a list of each Boolean operator's truth tables (i.e. every possible combination of Boolean values for the operator and what it evaluate )"
   ]
  },
  {
   "cell_type": "code",
   "execution_count": 51,
   "metadata": {},
   "outputs": [],
   "source": [
    "#    +---+---+---+---+-----------+--------------+---------------------+\n",
    "#    | a | b | x | d | (a and b) | a and b or x | a and (b or x) or d |\n",
    "#    +---+---+---+---+-----------+--------------+---------------------+\n",
    "#    | 0 | 0 | 0 | 0 |     0     |      0       |          0          |\n",
    "#    | 0 | 0 | 0 | 1 |     0     |      0       |          1          |\n",
    "#   | 0 | 0 | 1 | 0 |     0     |      1       |          0          |\n",
    "#    | 0 | 0 | 1 | 1 |     0     |      1       |          1          |\n",
    "#    | 0 | 1 | 0 | 0 |     0     |      0       |          0          |\n",
    "#    | 0 | 1 | 0 | 1 |     0     |      0       |          1          |\n",
    "#    | 0 | 1 | 1 | 0 |     0     |      1       |          0          |\n",
    "#    | 0 | 1 | 1 | 1 |     0     |      1       |          1          |\n",
    "#    | 1 | 0 | 0 | 0 |     0     |      0       |          0          |\n",
    "#    | 1 | 0 | 0 | 1 |     0     |      0       |          1          |\n",
    "#    | 1 | 0 | 1 | 0 |     0     |      1       |          1          |\n",
    "#    | 1 | 0 | 1 | 1 |     0     |      1       |          1          |\n",
    "#    | 1 | 1 | 0 | 0 |     1     |      1       |          1          |\n",
    "#    | 1 | 1 | 0 | 1 |     1     |      1       |          1          |\n",
    "#    | 1 | 1 | 1 | 0 |     1     |      1       |          1          |\n",
    "#    | 1 | 1 | 1 | 1 |     1     |      1       |          1          |\n",
    "#    +---+---+---+---+-----------+--------------+---------------------+\n"
   ]
  },
  {
   "cell_type": "markdown",
   "metadata": {},
   "source": [
    "4. What are the values of the following expressions?\n",
    "(5 > 4) and (3 == 5)\n",
    "not (5 > 4)\n",
    "(5 > 4) or (3 == 5)\n",
    "not ((5 > 4) or (3 == 5))\n",
    "(True and True) and (True == False)\n",
    "(not False) or (not True)\n"
   ]
  },
  {
   "cell_type": "code",
   "execution_count": 64,
   "metadata": {},
   "outputs": [
    {
     "data": {
      "text/plain": [
       "False"
      ]
     },
     "execution_count": 64,
     "metadata": {},
     "output_type": "execute_result"
    }
   ],
   "source": [
    "(5 > 4) and (3 == 5)\n"
   ]
  },
  {
   "cell_type": "markdown",
   "metadata": {},
   "source": [
    "5. What are the six comparison operators?"
   ]
  },
  {
   "cell_type": "code",
   "execution_count": 65,
   "metadata": {},
   "outputs": [],
   "source": [
    "#Operator,==,!=,<>,>,<,>=,<=\n"
   ]
  },
  {
   "cell_type": "markdown",
   "metadata": {},
   "source": [
    "6. How do you tell the difference between the equal to and assignment operators?Describe a condition and when you would use one"
   ]
  },
  {
   "cell_type": "code",
   "execution_count": 71,
   "metadata": {},
   "outputs": [
    {
     "name": "stdout",
     "output_type": "stream",
     "text": [
      "4\n",
      "value is less\n"
     ]
    }
   ],
   "source": [
    "a=4\n",
    "print(a)\n",
    "if a==3:\n",
    "    print(a)#here in this example a=4 we are assigning the value of a \n",
    "else:#under 2nd case if a==3 we are checking the weather it is equal to it or not\n",
    "    print('value is less')"
   ]
  },
  {
   "cell_type": "markdown",
   "metadata": {},
   "source": [
    "7. Identify the three blocks in this code:\n",
    "spam = 0\n",
    "if spam == 10:\n",
    "print('eggs')\n",
    "if spam > 5:\n",
    "print('bacon')\n",
    "else:\n",
    "print('ham')\n",
    "print('spam')\n",
    "print('spam')\n"
   ]
  },
  {
   "cell_type": "code",
   "execution_count": 72,
   "metadata": {},
   "outputs": [
    {
     "name": "stdout",
     "output_type": "stream",
     "text": [
      "ham\n",
      "spam\n",
      "spam\n"
     ]
    }
   ],
   "source": [
    "spam = 0\n",
    "if spam == 10:\n",
    "    print('eggs')\n",
    "if spam > 5:\n",
    "    print('bacon')\n",
    "else:\n",
    "    print('ham')\n",
    "    print('spam')\n",
    "    print('spam')\n"
   ]
  },
  {
   "cell_type": "markdown",
   "metadata": {},
   "source": [
    "8. Write code that prints Hello if 1 is stored in spam, prints Howdy if 2 is stored in spam, and prints Greetings! if anything else is stored in spam."
   ]
  },
  {
   "cell_type": "code",
   "execution_count": 45,
   "metadata": {},
   "outputs": [
    {
     "name": "stdout",
     "output_type": "stream",
     "text": [
      "Kindly enter values, if entering str use \"\"1\n",
      "Hello\n"
     ]
    }
   ],
   "source": [
    "l=[]\n",
    "spam=int(input('Kindly enter values, if entering str use \"\"'))\n",
    "l.append(spam)\n",
    "for i in l:\n",
    "    if type(i)==int:\n",
    "        if i==1:\n",
    "            print('Hello')\n",
    "        elif i==2:\n",
    "            print('Howdy')\n",
    "        else:\n",
    "            print(\"Greetings\")"
   ]
  },
  {
   "cell_type": "code",
   "execution_count": 41,
   "metadata": {},
   "outputs": [
    {
     "data": {
      "text/plain": [
       "list"
      ]
     },
     "execution_count": 41,
     "metadata": {},
     "output_type": "execute_result"
    }
   ],
   "source": [
    "type(l)"
   ]
  },
  {
   "cell_type": "code",
   "execution_count": null,
   "metadata": {},
   "outputs": [],
   "source": []
  }
 ],
 "metadata": {
  "kernelspec": {
   "display_name": "Python 3",
   "language": "python",
   "name": "python3"
  },
  "language_info": {
   "codemirror_mode": {
    "name": "ipython",
    "version": 3
   },
   "file_extension": ".py",
   "mimetype": "text/x-python",
   "name": "python",
   "nbconvert_exporter": "python",
   "pygments_lexer": "ipython3",
   "version": "3.8.5"
  }
 },
 "nbformat": 4,
 "nbformat_minor": 4
}
