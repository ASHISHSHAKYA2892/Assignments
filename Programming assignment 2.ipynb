{
 "cells": [
  {
   "cell_type": "code",
   "execution_count": 49,
   "metadata": {},
   "outputs": [
    {
     "name": "stdout",
     "output_type": "stream",
     "text": [
      "entered miles 1\n",
      "Value in KM= 1.6\n"
     ]
    }
   ],
   "source": [
    "#(1)\n",
    "a=int(input('entered miles '))\n",
    "z=a*1.6\n",
    "print(\"Value in KM=\",z)"
   ]
  },
  {
   "cell_type": "code",
   "execution_count": 54,
   "metadata": {},
   "outputs": [
    {
     "name": "stdout",
     "output_type": "stream",
     "text": [
      "temperatare in celcius 2\n",
      "Value in KM= 35.6\n"
     ]
    }
   ],
   "source": [
    "a=int(input('temperatare in celcius '))\n",
    "z=a*(9/5)+32\n",
    "print(\"Value in KM=\",z)"
   ]
  },
  {
   "cell_type": "code",
   "execution_count": 59,
   "metadata": {},
   "outputs": [
    {
     "name": "stdout",
     "output_type": "stream",
     "text": [
      "Enter year: 2021\n",
      "Enter month: 08\n",
      "    August 2021\n",
      "Mo Tu We Th Fr Sa Su\n",
      "                   1\n",
      " 2  3  4  5  6  7  8\n",
      " 9 10 11 12 13 14 15\n",
      "16 17 18 19 20 21 22\n",
      "23 24 25 26 27 28 29\n",
      "30 31\n",
      "\n"
     ]
    }
   ],
   "source": [
    "#(3)\n",
    "import calendar\n",
    "yy = int(input(\"Enter year: \"))\n",
    "mm = int(input(\"Enter month: \"))\n",
    "print(calendar.month(yy,mm))\n"
   ]
  },
  {
   "cell_type": "code",
   "execution_count": 65,
   "metadata": {},
   "outputs": [
    {
     "name": "stdout",
     "output_type": "stream",
     "text": [
      "value a2\n",
      "value b3\n",
      "value c45\n",
      "The solution are (-0.75-4.683748498798798j) and (-0.75+4.683748498798798j)\n"
     ]
    }
   ],
   "source": [
    "#(4)\n",
    "import cmath\n",
    "a = int(input(\"value a\"))#ax2+bx+c=0\n",
    "b = int(input(\"value b\"))\n",
    "c = int(input(\"value c\"))\n",
    "d = (b**2) - (4*a*c)\n",
    "sol1 = (-b-cmath.sqrt(d))/(2*a)\n",
    "sol2 = (-b+cmath.sqrt(d))/(2*a)\n",
    "print('The solution are {0} and {1}'.format(sol1,sol2))"
   ]
  },
  {
   "cell_type": "code",
   "execution_count": 67,
   "metadata": {},
   "outputs": [
    {
     "name": "stdout",
     "output_type": "stream",
     "text": [
      "2\n",
      "3\n",
      "Before swapping: \n",
      "Value of x :  2  and y :  3\n",
      "After swapping: \n",
      "Value of x :  3  and y :  2\n"
     ]
    }
   ],
   "source": [
    "#(5)\n",
    "x = int(input())\n",
    "y = int(input())\n",
    " \n",
    "print (\"Before swapping: \")\n",
    "print(\"Value of x : \", x, \" and y : \", y)\n",
    " \n",
    "# code to swap 'x' and 'y'\n",
    "x, y = y, x\n",
    " \n",
    "print (\"After swapping: \")\n",
    "print(\"Value of x : \", x, \" and y : \", y)"
   ]
  },
  {
   "cell_type": "code",
   "execution_count": null,
   "metadata": {},
   "outputs": [],
   "source": []
  }
 ],
 "metadata": {
  "kernelspec": {
   "display_name": "Python 3",
   "language": "python",
   "name": "python3"
  },
  "language_info": {
   "codemirror_mode": {
    "name": "ipython",
    "version": 3
   },
   "file_extension": ".py",
   "mimetype": "text/x-python",
   "name": "python",
   "nbconvert_exporter": "python",
   "pygments_lexer": "ipython3",
   "version": "3.8.5"
  }
 },
 "nbformat": 4,
 "nbformat_minor": 4
}
